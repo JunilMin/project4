{
  "nbformat": 4,
  "nbformat_minor": 0,
  "metadata": {
    "colab": {
      "name": "ai_06_project4_민준일.ipynb",
      "provenance": [],
      "authorship_tag": "ABX9TyPpipcDuXRyU3+LEa+RJ1Os",
      "include_colab_link": true
    },
    "kernelspec": {
      "name": "python3",
      "display_name": "Python 3"
    },
    "language_info": {
      "name": "python"
    }
  },
  "cells": [
    {
      "cell_type": "markdown",
      "metadata": {
        "id": "view-in-github",
        "colab_type": "text"
      },
      "source": [
        "<a href=\"https://colab.research.google.com/github/alswnsdlf/project4/blob/main/ai_06_project4_%EB%AF%BC%EC%A4%80%EC%9D%BC.ipynb\" target=\"_parent\"><img src=\"https://colab.research.google.com/assets/colab-badge.svg\" alt=\"Open In Colab\"/></a>"
      ]
    },
    {
      "cell_type": "markdown",
      "metadata": {
        "id": "hxiHft-3zzOQ"
      },
      "source": [
        "** 증권사 혹은 은행에서 일을 할 계획이 있어서 주식 데이터로 이번 프로젝트를 진행하게 되었습니다. 코드 스테이츠에 등록하기 전부터 주식에 대한 관심이 많았고 실제로도 주식 투자에 대한 공부를 틈틈히 하고 있으며 현재 여러 기업들에 투자를 하고 있습니다. 주식 투자에 대해 공부를 할 때 문득 이런 의문점들을 갖게 되었습니다.\n",
        "\n",
        "1. 주식 데이터는 수치화가 가능한 항목들만 나타낸 데이터인데 그 외 적인 것들(예를 들어, 정치적 상황이나 기업의 상황 등)에 대한 분석은 데이터 상에서 어떻게 나타내는지\n",
        "\n",
        "2. 수치상의 데이터로 분석을 한다면 지금까지의 데이터로 미래에 대한 예측을 하는 것인데, 과거의 특정 시기와 미래의 특정 시기가 같다고 분석이 되는지 (과거와 미래 연도의 동일 월, 일)\n",
        "\n",
        "3. 내가 주식 데이터를 기반으로 분석한 결과가 실제 주식 투자에 적용이 가능할지\n",
        "\n",
        "4. 모델을 사용하여 분석한 결과는 어떤 상황에서 효율적으로 쓰일 수 있는지\n",
        "\n",
        "이러한 의문점들을 해결하고자 혹은 추후에 해결될 수 있는지를 보고자 이번 프로젝트를 진행하였습니다."
      ]
    },
    {
      "cell_type": "code",
      "metadata": {
        "colab": {
          "base_uri": "https://localhost:8080/"
        },
        "id": "HAzp1xoAmgnn",
        "outputId": "ff70f8f0-d817-4de5-fd93-e36d098bdef4"
      },
      "source": [
        "!pip install -U finance-datareader"
      ],
      "execution_count": 2,
      "outputs": [
        {
          "output_type": "stream",
          "name": "stdout",
          "text": [
            "Collecting finance-datareader\n",
            "  Downloading finance_datareader-0.9.31-py3-none-any.whl (17 kB)\n",
            "Collecting requests-file\n",
            "  Downloading requests_file-1.5.1-py2.py3-none-any.whl (3.7 kB)\n",
            "Requirement already satisfied: pandas>=0.19.2 in /usr/local/lib/python3.7/dist-packages (from finance-datareader) (1.1.5)\n",
            "Requirement already satisfied: tqdm in /usr/local/lib/python3.7/dist-packages (from finance-datareader) (4.62.3)\n",
            "Requirement already satisfied: lxml in /usr/local/lib/python3.7/dist-packages (from finance-datareader) (4.2.6)\n",
            "Requirement already satisfied: requests>=2.3.0 in /usr/local/lib/python3.7/dist-packages (from finance-datareader) (2.23.0)\n",
            "Requirement already satisfied: python-dateutil>=2.7.3 in /usr/local/lib/python3.7/dist-packages (from pandas>=0.19.2->finance-datareader) (2.8.2)\n",
            "Requirement already satisfied: numpy>=1.15.4 in /usr/local/lib/python3.7/dist-packages (from pandas>=0.19.2->finance-datareader) (1.19.5)\n",
            "Requirement already satisfied: pytz>=2017.2 in /usr/local/lib/python3.7/dist-packages (from pandas>=0.19.2->finance-datareader) (2018.9)\n",
            "Requirement already satisfied: six>=1.5 in /usr/local/lib/python3.7/dist-packages (from python-dateutil>=2.7.3->pandas>=0.19.2->finance-datareader) (1.15.0)\n",
            "Requirement already satisfied: idna<3,>=2.5 in /usr/local/lib/python3.7/dist-packages (from requests>=2.3.0->finance-datareader) (2.10)\n",
            "Requirement already satisfied: certifi>=2017.4.17 in /usr/local/lib/python3.7/dist-packages (from requests>=2.3.0->finance-datareader) (2021.10.8)\n",
            "Requirement already satisfied: chardet<4,>=3.0.2 in /usr/local/lib/python3.7/dist-packages (from requests>=2.3.0->finance-datareader) (3.0.4)\n",
            "Requirement already satisfied: urllib3!=1.25.0,!=1.25.1,<1.26,>=1.21.1 in /usr/local/lib/python3.7/dist-packages (from requests>=2.3.0->finance-datareader) (1.24.3)\n",
            "Installing collected packages: requests-file, finance-datareader\n",
            "Successfully installed finance-datareader-0.9.31 requests-file-1.5.1\n"
          ]
        }
      ]
    },
    {
      "cell_type": "code",
      "metadata": {
        "colab": {
          "base_uri": "https://localhost:8080/"
        },
        "id": "n_FrRz31cMeC",
        "outputId": "eae3f590-dede-4652-c656-6020d3243663"
      },
      "source": [
        "import pandas as pd\n",
        "import numpy as np\n",
        "import matplotlib.pyplot as plt\n",
        "from keras.models import Sequential\n",
        "import datetime\n",
        "import tensorflow as tf\n",
        "import pandas as pd\n",
        "from sklearn import preprocessing\n",
        "import numpy as np\n",
        "import FinanceDataReader as fdr\n",
        "import keras\n",
        "from datetime import datetime\n",
        "from keras.models import Model\n",
        "from keras.layers import Dense, Dropout, LSTM, Input, Activation\n",
        "from keras import optimizers\n",
        "import numpy as np\n",
        "import matplotlib.pyplot as plt\n",
        "import tensorflow\n",
        "\n",
        "tf.__version__, keras.__version__"
      ],
      "execution_count": 50,
      "outputs": [
        {
          "output_type": "execute_result",
          "data": {
            "text/plain": [
              "('2.7.0', '2.7.0')"
            ]
          },
          "metadata": {},
          "execution_count": 50
        }
      ]
    },
    {
      "cell_type": "code",
      "metadata": {
        "id": "dbnKp-Gwl5wL"
      },
      "source": [
        "def call_dataset(ticker = '035720', stt = '2016-01-01', end = '2021-01-01', history_points = 50):\n",
        "    data = fdr.DataReader(ticker, stt, end)\n",
        "    data = data.iloc[:,0:-1]\n",
        "    print('data: ', data.shape)\n",
        "    data = data.values\n",
        "    data_normalizer = preprocessing.MinMaxScaler()\n",
        "    data_normalized = data_normalizer.fit_transform(data)\n",
        "    print('data_normalized: ', data_normalized.shape)\n",
        "\n",
        "    df_histories_normalized = np.array([data_normalized[i:i + history_points].copy() for i in range(len(data_normalized) - history_points)]) # ohlcv를 가지고 오되, 관찰일수 만큼 누적해서 쌓는다. (열방향으로)\n",
        "    \n",
        "    print('df_histories_normalized: ', df_histories_normalized.shape)\n",
        "\n",
        "    next_day_open_values_normalized = np.array([data_normalized[:, 0][i + history_points].copy() for i in range(len(data_normalized) - history_points)])\n",
        "    next_day_open_values_normalized = np.expand_dims(next_day_open_values_normalized, -1) \n",
        "\n",
        "    next_day_open_values = np.array([data[:, 0][i + history_points].copy() for i in range(len(data) - history_points)])\n",
        "    next_day_open_values = np.expand_dims(next_day_open_values, -1) \n",
        "\n",
        "    y_normalizer = preprocessing.MinMaxScaler()\n",
        "    y_normalizer.fit(next_day_open_values)\n",
        "\n",
        "    def calc_ema(values, time_period):\n",
        "        sma = np.mean(values[:, 3])\n",
        "        ema_values = [sma]\n",
        "        k = 2 / (1 + time_period)\n",
        "        for i in range(len(his) - time_period, len(his)):\n",
        "            close = his[i][3]\n",
        "            ema_values.append(close * k + ema_values[-1] * (1 - k))\n",
        "        return ema_values[-1]\n",
        "\n",
        "    technical_indicators = []\n",
        "    for his in df_histories_normalized:\n",
        "        sma = np.mean(his[:, 3])\n",
        "        macd = calc_ema(his, 12) - calc_ema(his, 26)\n",
        "        technical_indicators.append(np.array([sma]))\n",
        "    technical_indicators = np.array(technical_indicators)\n",
        "    tech_ind_scaler = preprocessing.MinMaxScaler()\n",
        "    technical_indicators_normalized = tech_ind_scaler.fit_transform(technical_indicators)\n",
        "    technical_indicators = np.array(technical_indicators)\n",
        "    tech_ind_scaler = preprocessing.MinMaxScaler()\n",
        "    technical_indicators_normalized = tech_ind_scaler.fit_transform(technical_indicators)\n",
        "    \n",
        "    assert df_histories_normalized.shape[0] == next_day_open_values_normalized.shape[0] == technical_indicators_normalized.shape[0]\n",
        "\n",
        "    print('df_histories_normalized.shape[0]: ', df_histories_normalized.shape[0])\n",
        "\n",
        "    return df_histories_normalized, technical_indicators_normalized, next_day_open_values_normalized, next_day_open_values, y_normalizer"
      ],
      "execution_count": 51,
      "outputs": []
    },
    {
      "cell_type": "code",
      "metadata": {
        "colab": {
          "base_uri": "https://localhost:8080/"
        },
        "id": "GjSiBCC4mGDi",
        "outputId": "085ec149-95b5-4fac-a74a-545a267d16de"
      },
      "source": [
        "history_points = 50\n",
        "ticker = '035720' # 카카오 데이터명\n",
        "np.random.seed(44)\n",
        "tensorflow.random.set_seed(44)\n",
        "df_histories, _, next_day_open_values, unscaled_y, y_normaliser = call_dataset(ticker=ticker)\n",
        "train_r = 0.8\n",
        "n = int(df_histories.shape[0] * train_r)\n",
        "df_train = df_histories[-n:-1]\n",
        "y_train = next_day_open_values[-n:-1]\n",
        "df_test = df_histories[:df_histories.shape[0]-n]\n",
        "y_test = next_day_open_values[:df_histories.shape[0]-n]\n",
        "unscaled_y_test = unscaled_y[:df_histories.shape[0]-n]\n",
        "\n",
        "print('훈련데이터: ', df_train.shape)\n",
        "print('테스트데이터: ',df_test.shape)"
      ],
      "execution_count": 58,
      "outputs": [
        {
          "output_type": "stream",
          "name": "stdout",
          "text": [
            "data:  (1227, 5)\n",
            "data_normalized:  (1227, 5)\n",
            "df_histories_normalized:  (1177, 50, 5)\n",
            "df_histories_normalized.shape[0]:  1177\n",
            "훈련데이터:  (940, 50, 5)\n",
            "테스트데이터:  (236, 50, 5)\n"
          ]
        }
      ]
    },
    {
      "cell_type": "code",
      "metadata": {
        "colab": {
          "base_uri": "https://localhost:8080/"
        },
        "id": "J2py8V21mIDK",
        "outputId": "6481d52a-5896-46f3-ffa1-c22bc7003237"
      },
      "source": [
        "df_train"
      ],
      "execution_count": 53,
      "outputs": [
        {
          "output_type": "execute_result",
          "data": {
            "text/plain": [
              "array([[[0.02288313, 0.01666953, 0.02244292, 0.01819139, 0.00602218],\n",
              "        [0.02115065, 0.01926161, 0.02335257, 0.02025328, 0.00803192],\n",
              "        [0.02289757, 0.01868878, 0.02096661, 0.01643659, 0.01273553],\n",
              "        ...,\n",
              "        [0.05245073, 0.04887724, 0.05298319, 0.04930978, 0.05072165],\n",
              "        [0.04954883, 0.04397949, 0.04728672, 0.04255381, 0.04310506],\n",
              "        [0.04664694, 0.04082889, 0.04490076, 0.04138395, 0.06532274]],\n",
              "\n",
              "       [[0.02115065, 0.01926161, 0.02335257, 0.02025328, 0.00803192],\n",
              "        [0.02289757, 0.01868878, 0.02096661, 0.01643659, 0.01273553],\n",
              "        [0.02026998, 0.01379103, 0.01855083, 0.01408224, 0.01904236],\n",
              "        ...,\n",
              "        [0.04954883, 0.04397949, 0.04728672, 0.04255381, 0.04310506],\n",
              "        [0.04664694, 0.04082889, 0.04490076, 0.04138395, 0.06532274],\n",
              "        [0.04520321, 0.03880965, 0.04370778, 0.04109148, 0.0477312 ]],\n",
              "\n",
              "       [[0.02289757, 0.01868878, 0.02096661, 0.01643659, 0.01273553],\n",
              "        [0.02026998, 0.01379103, 0.01855083, 0.01408224, 0.01904236],\n",
              "        [0.01767126, 0.01235894, 0.01467365, 0.01026556, 0.032418  ],\n",
              "        ...,\n",
              "        [0.04664694, 0.04082889, 0.04490076, 0.04138395, 0.06532274],\n",
              "        [0.04520321, 0.03880965, 0.04370778, 0.04109148, 0.0477312 ],\n",
              "        [0.04230131, 0.03995532, 0.04340953, 0.04255381, 0.05600434]],\n",
              "\n",
              "       ...,\n",
              "\n",
              "       [[0.86235472, 0.85053274, 0.86831   , 0.85324052, 0.06107007],\n",
              "        [0.84209918, 0.8318726 , 0.85335302, 0.84003568, 0.05673464],\n",
              "        [0.83340793, 0.83330469, 0.84437585, 0.82683084, 0.04929998],\n",
              "        ...,\n",
              "        [0.85949614, 0.88361402, 0.88927661, 0.90461219, 0.13879772],\n",
              "        [0.89713419, 0.91089534, 0.91470198, 0.89433201, 0.14987781],\n",
              "        [0.90003609, 0.89939566, 0.91919056, 0.89873362, 0.10164168]],\n",
              "\n",
              "       [[0.84209918, 0.8318726 , 0.85335302, 0.84003568, 0.05673464],\n",
              "        [0.83340793, 0.83330469, 0.84437585, 0.82683084, 0.04929998],\n",
              "        [0.80441782, 0.80599473, 0.80843735, 0.82535388, 0.12707811],\n",
              "        ...,\n",
              "        [0.89713419, 0.91089534, 0.91470198, 0.89433201, 0.14987781],\n",
              "        [0.90003609, 0.89939566, 0.91919056, 0.89873362, 0.10164168],\n",
              "        [0.89281744, 0.88361402, 0.90423359, 0.88846806, 0.06939739]],\n",
              "\n",
              "       [[0.83340793, 0.83330469, 0.84437585, 0.82683084, 0.04929998],\n",
              "        [0.80441782, 0.80599473, 0.80843735, 0.82535388, 0.12707811],\n",
              "        [0.81312351, 0.8289941 , 0.84137849, 0.82829317, 0.07940404],\n",
              "        ...,\n",
              "        [0.90003609, 0.89939566, 0.91919056, 0.89873362, 0.10164168],\n",
              "        [0.89281744, 0.88361402, 0.90423359, 0.88846806, 0.06939739],\n",
              "        [0.88122428, 0.87499284, 0.89674764, 0.88552878, 0.10487197]]])"
            ]
          },
          "metadata": {},
          "execution_count": 53
        }
      ]
    },
    {
      "cell_type": "code",
      "metadata": {
        "colab": {
          "base_uri": "https://localhost:8080/"
        },
        "id": "7nQK0kbYmrnM",
        "outputId": "054d9ac5-37b3-42d7-c4b4-8f4de9e1c74b"
      },
      "source": [
        "lstm_input = Input(shape=(history_points, 5), name='lstm_input')\n",
        "x = LSTM(50, name='lstm_0')(lstm_input)\n",
        "x = Dropout(0.2, name='lstm_dropout_0')(x)\n",
        "x = Dense(64, name='dense_0')(x)\n",
        "x = Activation('sigmoid', name='sigmoid_0')(x)\n",
        "x = Dense(1, name='dense_1')(x)\n",
        "output = Activation('linear', name='linear_output')(x)\n",
        "model = Model(inputs=lstm_input, outputs=output)\n",
        "adam = tf.optimizers.Adam(lr=0.01)"
      ],
      "execution_count": 61,
      "outputs": [
        {
          "output_type": "stream",
          "name": "stderr",
          "text": [
            "/usr/local/lib/python3.7/dist-packages/keras/optimizer_v2/adam.py:105: UserWarning: The `lr` argument is deprecated, use `learning_rate` instead.\n",
            "  super(Adam, self).__init__(name, **kwargs)\n"
          ]
        }
      ]
    },
    {
      "cell_type": "code",
      "metadata": {
        "colab": {
          "base_uri": "https://localhost:8080/"
        },
        "id": "LpsCElbz3WW_",
        "outputId": "33bb62c3-0a67-4532-88f3-29305227ca9c"
      },
      "source": [
        "model.compile(optimizer=adam, loss='mse')\n",
        "model.fit(x=df_train, y=y_train, batch_size=40, epochs=100, shuffle=True, validation_split=0.1)\n",
        "y_test_predicted = model.predict(df_test)\n",
        "y_test_predicted = y_normaliser.inverse_transform(y_test_predicted)\n",
        "y_predicted = model.predict(df_histories)\n",
        "y_predicted = y_normaliser.inverse_transform(y_predicted)\n",
        "assert unscaled_y_test.shape == y_test_predicted.shape\n",
        "real_mse = np.mean(np.square(unscaled_y_test - y_test_predicted))\n",
        "scaled_mse = real_mse / (np.max(unscaled_y_test) - np.min(unscaled_y_test)) * 100\n",
        "print(scaled_mse)\n",
        "model.save(f'basic_model.h5')"
      ],
      "execution_count": 62,
      "outputs": [
        {
          "output_type": "stream",
          "name": "stdout",
          "text": [
            "Epoch 1/100\n",
            "22/22 [==============================] - 3s 54ms/step - loss: 0.0497 - val_loss: 0.0058\n",
            "Epoch 2/100\n",
            "22/22 [==============================] - 1s 29ms/step - loss: 0.0019 - val_loss: 0.0051\n",
            "Epoch 3/100\n",
            "22/22 [==============================] - 1s 30ms/step - loss: 0.0013 - val_loss: 0.0034\n",
            "Epoch 4/100\n",
            "22/22 [==============================] - 1s 30ms/step - loss: 9.8627e-04 - val_loss: 0.0043\n",
            "Epoch 5/100\n",
            "22/22 [==============================] - 1s 30ms/step - loss: 9.9307e-04 - val_loss: 9.5724e-04\n",
            "Epoch 6/100\n",
            "22/22 [==============================] - 1s 29ms/step - loss: 8.5420e-04 - val_loss: 0.0046\n",
            "Epoch 7/100\n",
            "22/22 [==============================] - 1s 30ms/step - loss: 8.7008e-04 - val_loss: 0.0014\n",
            "Epoch 8/100\n",
            "22/22 [==============================] - 1s 29ms/step - loss: 6.9617e-04 - val_loss: 5.9330e-04\n",
            "Epoch 9/100\n",
            "22/22 [==============================] - 1s 30ms/step - loss: 5.2620e-04 - val_loss: 0.0064\n",
            "Epoch 10/100\n",
            "22/22 [==============================] - 1s 32ms/step - loss: 8.2074e-04 - val_loss: 0.0033\n",
            "Epoch 11/100\n",
            "22/22 [==============================] - 1s 29ms/step - loss: 7.0923e-04 - val_loss: 0.0030\n",
            "Epoch 12/100\n",
            "22/22 [==============================] - 1s 29ms/step - loss: 6.8346e-04 - val_loss: 0.0015\n",
            "Epoch 13/100\n",
            "22/22 [==============================] - 1s 28ms/step - loss: 7.1654e-04 - val_loss: 5.1469e-04\n",
            "Epoch 14/100\n",
            "22/22 [==============================] - 1s 29ms/step - loss: 4.1515e-04 - val_loss: 9.7164e-04\n",
            "Epoch 15/100\n",
            "22/22 [==============================] - 1s 30ms/step - loss: 3.9337e-04 - val_loss: 0.0020\n",
            "Epoch 16/100\n",
            "22/22 [==============================] - 1s 28ms/step - loss: 4.4566e-04 - val_loss: 0.0010\n",
            "Epoch 17/100\n",
            "22/22 [==============================] - 1s 29ms/step - loss: 5.5698e-04 - val_loss: 0.0015\n",
            "Epoch 18/100\n",
            "22/22 [==============================] - 1s 32ms/step - loss: 4.5789e-04 - val_loss: 5.3509e-04\n",
            "Epoch 19/100\n",
            "22/22 [==============================] - 1s 29ms/step - loss: 4.4807e-04 - val_loss: 6.0616e-04\n",
            "Epoch 20/100\n",
            "22/22 [==============================] - 1s 30ms/step - loss: 6.1288e-04 - val_loss: 0.0061\n",
            "Epoch 21/100\n",
            "22/22 [==============================] - 1s 30ms/step - loss: 9.8329e-04 - val_loss: 4.8812e-04\n",
            "Epoch 22/100\n",
            "22/22 [==============================] - 1s 29ms/step - loss: 4.9535e-04 - val_loss: 0.0123\n",
            "Epoch 23/100\n",
            "22/22 [==============================] - 1s 30ms/step - loss: 6.0124e-04 - val_loss: 0.0013\n",
            "Epoch 24/100\n",
            "22/22 [==============================] - 1s 28ms/step - loss: 4.6960e-04 - val_loss: 9.3471e-04\n",
            "Epoch 25/100\n",
            "22/22 [==============================] - 1s 29ms/step - loss: 3.1932e-04 - val_loss: 4.7602e-04\n",
            "Epoch 26/100\n",
            "22/22 [==============================] - 1s 30ms/step - loss: 3.2770e-04 - val_loss: 4.7483e-04\n",
            "Epoch 27/100\n",
            "22/22 [==============================] - 1s 29ms/step - loss: 3.3141e-04 - val_loss: 4.6907e-04\n",
            "Epoch 28/100\n",
            "22/22 [==============================] - 1s 29ms/step - loss: 3.4704e-04 - val_loss: 0.0013\n",
            "Epoch 29/100\n",
            "22/22 [==============================] - 1s 28ms/step - loss: 4.6256e-04 - val_loss: 0.0146\n",
            "Epoch 30/100\n",
            "22/22 [==============================] - 1s 29ms/step - loss: 5.3325e-04 - val_loss: 0.0010\n",
            "Epoch 31/100\n",
            "22/22 [==============================] - 1s 30ms/step - loss: 3.9426e-04 - val_loss: 0.0040\n",
            "Epoch 32/100\n",
            "22/22 [==============================] - 1s 29ms/step - loss: 4.5106e-04 - val_loss: 0.0044\n",
            "Epoch 33/100\n",
            "22/22 [==============================] - 1s 29ms/step - loss: 4.3830e-04 - val_loss: 9.9345e-04\n",
            "Epoch 34/100\n",
            "22/22 [==============================] - 1s 30ms/step - loss: 3.8023e-04 - val_loss: 3.8242e-04\n",
            "Epoch 35/100\n",
            "22/22 [==============================] - 1s 29ms/step - loss: 2.9678e-04 - val_loss: 0.0025\n",
            "Epoch 36/100\n",
            "22/22 [==============================] - 1s 29ms/step - loss: 3.0143e-04 - val_loss: 0.0022\n",
            "Epoch 37/100\n",
            "22/22 [==============================] - 1s 28ms/step - loss: 5.2238e-04 - val_loss: 4.1045e-04\n",
            "Epoch 38/100\n",
            "22/22 [==============================] - 1s 28ms/step - loss: 4.8544e-04 - val_loss: 5.9330e-04\n",
            "Epoch 39/100\n",
            "22/22 [==============================] - 1s 29ms/step - loss: 3.3012e-04 - val_loss: 4.5805e-04\n",
            "Epoch 40/100\n",
            "22/22 [==============================] - 1s 29ms/step - loss: 3.2684e-04 - val_loss: 5.0144e-04\n",
            "Epoch 41/100\n",
            "22/22 [==============================] - 1s 29ms/step - loss: 3.2055e-04 - val_loss: 6.0378e-04\n",
            "Epoch 42/100\n",
            "22/22 [==============================] - 1s 30ms/step - loss: 3.8082e-04 - val_loss: 6.8175e-04\n",
            "Epoch 43/100\n",
            "22/22 [==============================] - 1s 30ms/step - loss: 5.0291e-04 - val_loss: 0.0013\n",
            "Epoch 44/100\n",
            "22/22 [==============================] - 1s 30ms/step - loss: 9.0350e-04 - val_loss: 0.0044\n",
            "Epoch 45/100\n",
            "22/22 [==============================] - 1s 30ms/step - loss: 4.3272e-04 - val_loss: 3.5943e-04\n",
            "Epoch 46/100\n",
            "22/22 [==============================] - 1s 30ms/step - loss: 4.9067e-04 - val_loss: 0.0017\n",
            "Epoch 47/100\n",
            "22/22 [==============================] - 1s 30ms/step - loss: 6.2324e-04 - val_loss: 5.7070e-04\n",
            "Epoch 48/100\n",
            "22/22 [==============================] - 1s 31ms/step - loss: 2.5511e-04 - val_loss: 5.9806e-04\n",
            "Epoch 49/100\n",
            "22/22 [==============================] - 1s 30ms/step - loss: 4.5477e-04 - val_loss: 5.1535e-04\n",
            "Epoch 50/100\n",
            "22/22 [==============================] - 1s 30ms/step - loss: 3.3221e-04 - val_loss: 0.0019\n",
            "Epoch 51/100\n",
            "22/22 [==============================] - 1s 29ms/step - loss: 4.7492e-04 - val_loss: 6.5363e-04\n",
            "Epoch 52/100\n",
            "22/22 [==============================] - 1s 31ms/step - loss: 4.4819e-04 - val_loss: 4.1460e-04\n",
            "Epoch 53/100\n",
            "22/22 [==============================] - 1s 31ms/step - loss: 5.8206e-04 - val_loss: 8.9418e-04\n",
            "Epoch 54/100\n",
            "22/22 [==============================] - 1s 31ms/step - loss: 3.4099e-04 - val_loss: 3.1085e-04\n",
            "Epoch 55/100\n",
            "22/22 [==============================] - 1s 33ms/step - loss: 4.1962e-04 - val_loss: 0.0078\n",
            "Epoch 56/100\n",
            "22/22 [==============================] - 1s 32ms/step - loss: 6.8661e-04 - val_loss: 3.6017e-04\n",
            "Epoch 57/100\n",
            "22/22 [==============================] - 1s 30ms/step - loss: 6.7432e-04 - val_loss: 7.6590e-04\n",
            "Epoch 58/100\n",
            "22/22 [==============================] - 1s 32ms/step - loss: 6.2895e-04 - val_loss: 0.0101\n",
            "Epoch 59/100\n",
            "22/22 [==============================] - 1s 31ms/step - loss: 7.9261e-04 - val_loss: 5.0981e-04\n",
            "Epoch 60/100\n",
            "22/22 [==============================] - 1s 30ms/step - loss: 5.4164e-04 - val_loss: 3.0613e-04\n",
            "Epoch 61/100\n",
            "22/22 [==============================] - 1s 31ms/step - loss: 3.4022e-04 - val_loss: 7.7086e-04\n",
            "Epoch 62/100\n",
            "22/22 [==============================] - 1s 31ms/step - loss: 3.8169e-04 - val_loss: 8.2393e-04\n",
            "Epoch 63/100\n",
            "22/22 [==============================] - 1s 30ms/step - loss: 3.3001e-04 - val_loss: 7.1447e-04\n",
            "Epoch 64/100\n",
            "22/22 [==============================] - 1s 31ms/step - loss: 2.6750e-04 - val_loss: 3.0817e-04\n",
            "Epoch 65/100\n",
            "22/22 [==============================] - 1s 31ms/step - loss: 3.0972e-04 - val_loss: 9.8756e-04\n",
            "Epoch 66/100\n",
            "22/22 [==============================] - 1s 30ms/step - loss: 3.3230e-04 - val_loss: 4.4164e-04\n",
            "Epoch 67/100\n",
            "22/22 [==============================] - 1s 30ms/step - loss: 5.0003e-04 - val_loss: 0.0013\n",
            "Epoch 68/100\n",
            "22/22 [==============================] - 1s 32ms/step - loss: 5.9443e-04 - val_loss: 0.0090\n",
            "Epoch 69/100\n",
            "22/22 [==============================] - 1s 29ms/step - loss: 7.1077e-04 - val_loss: 0.0071\n",
            "Epoch 70/100\n",
            "22/22 [==============================] - 1s 31ms/step - loss: 4.7736e-04 - val_loss: 2.8053e-04\n",
            "Epoch 71/100\n",
            "22/22 [==============================] - 1s 29ms/step - loss: 2.7273e-04 - val_loss: 7.3298e-04\n",
            "Epoch 72/100\n",
            "22/22 [==============================] - 1s 29ms/step - loss: 3.6103e-04 - val_loss: 4.8793e-04\n",
            "Epoch 73/100\n",
            "22/22 [==============================] - 1s 30ms/step - loss: 4.0840e-04 - val_loss: 0.0030\n",
            "Epoch 74/100\n",
            "22/22 [==============================] - 1s 30ms/step - loss: 5.0443e-04 - val_loss: 0.0029\n",
            "Epoch 75/100\n",
            "22/22 [==============================] - 1s 30ms/step - loss: 8.1529e-04 - val_loss: 3.0633e-04\n",
            "Epoch 76/100\n",
            "22/22 [==============================] - 1s 30ms/step - loss: 3.9673e-04 - val_loss: 4.1312e-04\n",
            "Epoch 77/100\n",
            "22/22 [==============================] - 1s 29ms/step - loss: 3.2428e-04 - val_loss: 0.0017\n",
            "Epoch 78/100\n",
            "22/22 [==============================] - 1s 31ms/step - loss: 4.9091e-04 - val_loss: 2.9796e-04\n",
            "Epoch 79/100\n",
            "22/22 [==============================] - 1s 30ms/step - loss: 3.1233e-04 - val_loss: 3.2362e-04\n",
            "Epoch 80/100\n",
            "22/22 [==============================] - 1s 32ms/step - loss: 3.1317e-04 - val_loss: 4.9986e-04\n",
            "Epoch 81/100\n",
            "22/22 [==============================] - 1s 29ms/step - loss: 3.0530e-04 - val_loss: 2.7220e-04\n",
            "Epoch 82/100\n",
            "22/22 [==============================] - 1s 33ms/step - loss: 2.7219e-04 - val_loss: 3.0654e-04\n",
            "Epoch 83/100\n",
            "22/22 [==============================] - 1s 30ms/step - loss: 3.4120e-04 - val_loss: 0.0029\n",
            "Epoch 84/100\n",
            "22/22 [==============================] - 1s 31ms/step - loss: 4.5216e-04 - val_loss: 0.0010\n",
            "Epoch 85/100\n",
            "22/22 [==============================] - 1s 31ms/step - loss: 2.3862e-04 - val_loss: 8.8664e-04\n",
            "Epoch 86/100\n",
            "22/22 [==============================] - 1s 29ms/step - loss: 3.4319e-04 - val_loss: 0.0017\n",
            "Epoch 87/100\n",
            "22/22 [==============================] - 1s 30ms/step - loss: 4.6185e-04 - val_loss: 2.4610e-04\n",
            "Epoch 88/100\n",
            "22/22 [==============================] - 1s 30ms/step - loss: 5.0661e-04 - val_loss: 3.4097e-04\n",
            "Epoch 89/100\n",
            "22/22 [==============================] - 1s 31ms/step - loss: 4.0870e-04 - val_loss: 4.2219e-04\n",
            "Epoch 90/100\n",
            "22/22 [==============================] - 1s 32ms/step - loss: 3.3444e-04 - val_loss: 0.0016\n",
            "Epoch 91/100\n",
            "22/22 [==============================] - 1s 31ms/step - loss: 6.1187e-04 - val_loss: 0.0027\n",
            "Epoch 92/100\n",
            "22/22 [==============================] - 1s 31ms/step - loss: 6.6609e-04 - val_loss: 7.8521e-04\n",
            "Epoch 93/100\n",
            "22/22 [==============================] - 1s 30ms/step - loss: 3.3493e-04 - val_loss: 2.7261e-04\n",
            "Epoch 94/100\n",
            "22/22 [==============================] - 1s 32ms/step - loss: 3.4333e-04 - val_loss: 2.1575e-04\n",
            "Epoch 95/100\n",
            "22/22 [==============================] - 1s 30ms/step - loss: 4.4687e-04 - val_loss: 2.0231e-04\n",
            "Epoch 96/100\n",
            "22/22 [==============================] - 1s 31ms/step - loss: 3.9403e-04 - val_loss: 0.0012\n",
            "Epoch 97/100\n",
            "22/22 [==============================] - 1s 31ms/step - loss: 2.7992e-04 - val_loss: 0.0059\n",
            "Epoch 98/100\n",
            "22/22 [==============================] - 1s 30ms/step - loss: 0.0017 - val_loss: 0.0066\n",
            "Epoch 99/100\n",
            "22/22 [==============================] - 1s 31ms/step - loss: 0.0015 - val_loss: 2.2047e-04\n",
            "Epoch 100/100\n",
            "22/22 [==============================] - 1s 31ms/step - loss: 4.5656e-04 - val_loss: 5.9225e-04\n",
            "2823.0812615668606\n"
          ]
        }
      ]
    },
    {
      "cell_type": "code",
      "metadata": {
        "colab": {
          "base_uri": "https://localhost:8080/",
          "height": 582
        },
        "id": "pKe9cZsKmub3",
        "outputId": "e6b9ef03-ab94-44fb-ba79-b15295a4c7f6"
      },
      "source": [
        "plt.gcf().set_size_inches(22, 15, forward=True)\n",
        "start = 0\n",
        "end = -1\n",
        "real = plt.plot(unscaled_y[start:end], label='real')\n",
        "pred = plt.plot(y_predicted[start:end], label='predicted')\n",
        "plt.legend(['Real', 'Predicted'])\n",
        "plt.title('kakao')\n",
        "plt.show()"
      ],
      "execution_count": 63,
      "outputs": [
        {
          "output_type": "display_data",
          "data": {
            "image/png": "[encoded data removed]",
            "text/plain": [
              "<Figure size 1584x1080 with 1 Axes>"
            ]
          },
          "metadata": {
            "needs_background": "light"
          }
        }
      ]
    },
    {
      "cell_type": "code",
      "metadata": {
        "id": "YYkM5bXJm8nL"
      },
      "source": [
        "col_name = ['real', 'pred']\n",
        "real, pred = pd.DataFrame(unscaled_y[start:end]), pd.DataFrame(y_predicted[start:end])\n",
        "real_pred = pd.concat([real, pred], axis = 1)\n",
        "real_pred.columns = col_name"
      ],
      "execution_count": 59,
      "outputs": []
    },
    {
      "cell_type": "code",
      "metadata": {
        "colab": {
          "base_uri": "https://localhost:8080/",
          "height": 419
        },
        "id": "20rpDPXGnLAI",
        "outputId": "2b224b62-999d-41bb-ac2e-6d5909d3cb45"
      },
      "source": [
        "real_pred"
      ],
      "execution_count": 60,
      "outputs": [
        {
          "output_type": "execute_result",
          "data": {
            "text/html": [
              "<div>\n",
              "<style scoped>\n",
              "    .dataframe tbody tr th:only-of-type {\n",
              "        vertical-align: middle;\n",
              "    }\n",
              "\n",
              "    .dataframe tbody tr th {\n",
              "        vertical-align: top;\n",
              "    }\n",
              "\n",
              "    .dataframe thead th {\n",
              "        text-align: right;\n",
              "    }\n",
              "</style>\n",
              "<table border=\"1\" class=\"dataframe\">\n",
              "  <thead>\n",
              "    <tr style=\"text-align: right;\">\n",
              "      <th></th>\n",
              "      <th>real</th>\n",
              "      <th>pred</th>\n",
              "    </tr>\n",
              "  </thead>\n",
              "  <tbody>\n",
              "    <tr>\n",
              "      <th>0</th>\n",
              "      <td>22700</td>\n",
              "      <td>22216.615234</td>\n",
              "    </tr>\n",
              "    <tr>\n",
              "      <th>1</th>\n",
              "      <td>22519</td>\n",
              "      <td>22415.710938</td>\n",
              "    </tr>\n",
              "    <tr>\n",
              "      <th>2</th>\n",
              "      <td>21737</td>\n",
              "      <td>22105.519531</td>\n",
              "    </tr>\n",
              "    <tr>\n",
              "      <th>3</th>\n",
              "      <td>21777</td>\n",
              "      <td>21697.279297</td>\n",
              "    </tr>\n",
              "    <tr>\n",
              "      <th>4</th>\n",
              "      <td>21395</td>\n",
              "      <td>21357.916016</td>\n",
              "    </tr>\n",
              "    <tr>\n",
              "      <th>...</th>\n",
              "      <td>...</td>\n",
              "      <td>...</td>\n",
              "    </tr>\n",
              "    <tr>\n",
              "      <th>1171</th>\n",
              "      <td>76270</td>\n",
              "      <td>77421.453125</td>\n",
              "    </tr>\n",
              "    <tr>\n",
              "      <th>1172</th>\n",
              "      <td>76471</td>\n",
              "      <td>77808.328125</td>\n",
              "    </tr>\n",
              "    <tr>\n",
              "      <th>1173</th>\n",
              "      <td>75971</td>\n",
              "      <td>77632.062500</td>\n",
              "    </tr>\n",
              "    <tr>\n",
              "      <th>1174</th>\n",
              "      <td>75168</td>\n",
              "      <td>76419.398438</td>\n",
              "    </tr>\n",
              "    <tr>\n",
              "      <th>1175</th>\n",
              "      <td>76472</td>\n",
              "      <td>76266.015625</td>\n",
              "    </tr>\n",
              "  </tbody>\n",
              "</table>\n",
              "<p>1176 rows × 2 columns</p>\n",
              "</div>"
            ],
            "text/plain": [
              "       real          pred\n",
              "0     22700  22216.615234\n",
              "1     22519  22415.710938\n",
              "2     21737  22105.519531\n",
              "3     21777  21697.279297\n",
              "4     21395  21357.916016\n",
              "...     ...           ...\n",
              "1171  76270  77421.453125\n",
              "1172  76471  77808.328125\n",
              "1173  75971  77632.062500\n",
              "1174  75168  76419.398438\n",
              "1175  76472  76266.015625\n",
              "\n",
              "[1176 rows x 2 columns]"
            ]
          },
          "metadata": {},
          "execution_count": 60
        }
      ]
    }
  ]
}